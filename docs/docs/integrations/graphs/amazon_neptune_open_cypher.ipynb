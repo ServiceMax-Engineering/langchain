{
 "cells": [
  {
   "cell_type": "markdown",
   "metadata": {},
   "source": [
    "# Amazon Neptune with Cypher\n",
    "\n",
    ">[Amazon Neptune](https://aws.amazon.com/neptune/) is a high-performance graph analytics and serverless database for superior scalability and availability.\n",
    ">\n",
    ">This example shows the QA chain that queries the `Neptune` graph database using `openCypher` and returns a human-readable response.\n",
    ">\n",
    ">[Cypher](https://en.wikipedia.org/wiki/Cypher_(query_language)) is a declarative graph query language that allows for expressive and efficient data querying in a property graph.\n",
    ">\n",
    ">[openCypher](https://opencypher.org/) is an open-source implementation of Cypher.# Neptune Open Cypher QA Chain\n",
    "This QA chain queries Amazon Neptune using openCypher and returns human readable response\n",
    "\n",
    "LangChain supports both [Neptune Database](https://docs.aws.amazon.com/neptune/latest/userguide/intro.html) and [Neptune Analytics](https://docs.aws.amazon.com/neptune-analytics/latest/userguide/what-is-neptune-analytics.html) with `create_neptune_opencypher_qa_chain`.\n",
    "\n",
    "Neptune Database is a serverless graph database designed for optimal scalability and availability. It provides a solution for graph database workloads that need to scale to 100,000 queries per second, Multi-AZ high availability, and multi-Region deployments. You can use Neptune Database for social networking, fraud alerting, and Customer 360 applications.\n",
    "\n",
    "Neptune Analytics is an analytics database engine that can quickly analyze large amounts of graph data in memory to get insights and find trends. Neptune Analytics is a solution for quickly analyzing existing graph databases or graph datasets stored in a data lake. It uses popular graph analytic algorithms and low-latency analytic queries.\n",
    "\n",
    "\n",
    "\n",
    "## Using Neptune Database"
   ]
  },
  {
   "cell_type": "code",
   "execution_count": null,
   "metadata": {},
   "outputs": [],
   "source": [
    "from langchain_aws.graphs import NeptuneGraph\n",
    "\n",
    "host = \"<neptune-host>\"\n",
    "port = 8182\n",
    "use_https = True\n",
    "\n",
    "graph = NeptuneGraph(host=host, port=port, use_https=use_https)"
   ]
  },
  {
   "cell_type": "markdown",
   "metadata": {},
   "source": [
    "### Using Neptune Analytics"
   ]
  },
  {
   "cell_type": "code",
   "execution_count": null,
   "metadata": {},
   "outputs": [],
   "source": [
    "from langchain_aws.graphs import NeptuneAnalyticsGraph\n",
    "\n",
    "graph = NeptuneAnalyticsGraph(graph_identifier=\"<neptune-analytics-graph-id>\")"
   ]
  },
  {
   "cell_type": "markdown",
   "metadata": {},
   "source": [
    "## Using the Neptune openCypher QA Chain\n",
    "\n",
    "This QA chain queries the Neptune graph database using openCypher and returns a human-readable response."
   ]
  },
  {
   "cell_type": "code",
   "execution_count": null,
   "metadata": {},
   "outputs": [],
   "source": [
    "from langchain_aws import ChatBedrockConverse\n",
    "from langchain_aws.chains import create_neptune_opencypher_qa_chain\n",
    "\n",
    "MODEL_ID = \"anthropic.claude-3-5-sonnet-20241022-v2:0\"\n",
    "llm = ChatBedrockConverse(\n",
    "    model=MODEL_ID,\n",
    "    temperature=0,\n",
    ")\n",
    "\n",
    "chain = create_neptune_opencypher_qa_chain(\n",
    "    llm=llm,\n",
    "    graph=graph,\n",
    ")\n",
    "\n",
    "result = chain.invoke(\n",
    "    {\"query\": \"How many outgoing routes does the Austin airport have?\"}\n",
    ")\n",
    "print(result[\"result\"].content)"
   ]
  }
 ],
 "metadata": {
  "kernelspec": {
   "display_name": "Python 3 (ipykernel)",
   "language": "python",
   "name": "python3"
  },
  "language_info": {
   "codemirror_mode": {
    "name": "ipython",
    "version": 3
   },
   "file_extension": ".py",
   "mimetype": "text/x-python",
   "name": "python",
   "nbconvert_exporter": "python",
   "pygments_lexer": "ipython3",
   "version": "3.10.12"
  }
 },
 "nbformat": 4,
 "nbformat_minor": 4
}
